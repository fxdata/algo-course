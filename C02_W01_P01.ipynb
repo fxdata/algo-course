{
  "nbformat": 4,
  "nbformat_minor": 0,
  "metadata": {
    "colab": {
      "name": "C02_W01_P01.ipynb",
      "provenance": [],
      "include_colab_link": true
    },
    "kernelspec": {
      "name": "python3",
      "display_name": "Python 3"
    }
  },
  "cells": [
    {
      "cell_type": "markdown",
      "metadata": {
        "id": "view-in-github",
        "colab_type": "text"
      },
      "source": [
        "<a href=\"https://colab.research.google.com/github/fxdata/algo-course/blob/master/C02_W01_P01.ipynb\" target=\"_parent\"><img src=\"https://colab.research.google.com/assets/colab-badge.svg\" alt=\"Open In Colab\"/></a>"
      ]
    },
    {
      "cell_type": "code",
      "metadata": {
        "id": "pAgYMGhYCFSv",
        "colab_type": "code",
        "outputId": "0a1dd375-156c-4bb1-ee04-9ebf67ca3fbf",
        "colab": {
          "base_uri": "https://localhost:8080/",
          "height": 124
        }
      },
      "source": [
        "from google.colab import drive\n",
        "drive.mount('/content/gdrive')"
      ],
      "execution_count": 1,
      "outputs": [
        {
          "output_type": "stream",
          "text": [
            "Go to this URL in a browser: https://accounts.google.com/o/oauth2/auth?client_id=947318989803-6bn6qk8qdgf4n4g3pfee6491hc0brc4i.apps.googleusercontent.com&redirect_uri=urn%3aietf%3awg%3aoauth%3a2.0%3aoob&response_type=code&scope=email%20https%3a%2f%2fwww.googleapis.com%2fauth%2fdocs.test%20https%3a%2f%2fwww.googleapis.com%2fauth%2fdrive%20https%3a%2f%2fwww.googleapis.com%2fauth%2fdrive.photos.readonly%20https%3a%2f%2fwww.googleapis.com%2fauth%2fpeopleapi.readonly\n",
            "\n",
            "Enter your authorization code:\n",
            "··········\n",
            "Mounted at /content/gdrive\n"
          ],
          "name": "stdout"
        }
      ]
    },
    {
      "cell_type": "code",
      "metadata": {
        "id": "C73jQRB3ChCH",
        "colab_type": "code",
        "colab": {}
      },
      "source": [
        "root_path = 'gdrive/My Drive/Colab Notebooks/projects/Algo course' "
      ],
      "execution_count": 0,
      "outputs": []
    },
    {
      "cell_type": "code",
      "metadata": {
        "id": "sunfPzf3Co1q",
        "colab_type": "code",
        "colab": {}
      },
      "source": [
        "import os\n",
        "import sys"
      ],
      "execution_count": 0,
      "outputs": []
    },
    {
      "cell_type": "code",
      "metadata": {
        "id": "haZ7_rgGC79w",
        "colab_type": "code",
        "outputId": "bfc2e1f0-1ff1-4fbf-ca6a-1bc0c874537b",
        "colab": {
          "base_uri": "https://localhost:8080/",
          "height": 190
        }
      },
      "source": [
        "!head \"/content/gdrive/My Drive/Colab Notebooks/projects/Algo course/SCC.txt\""
      ],
      "execution_count": 4,
      "outputs": [
        {
          "output_type": "stream",
          "text": [
            "1 1 \n",
            "1 2 \n",
            "1 5 \n",
            "1 6 \n",
            "1 7 \n",
            "1 3 \n",
            "1 8 \n",
            "1 4 \n",
            "2 47646 \n",
            "2 47647 \n"
          ],
          "name": "stdout"
        }
      ]
    },
    {
      "cell_type": "code",
      "metadata": {
        "id": "ih9_9buHHKqR",
        "colab_type": "code",
        "colab": {}
      },
      "source": [
        "class Graph:\n",
        "\n",
        "    def __init__(self, edge_list=[]):\n",
        "        if all(isinstance(x , tuple) for x in edge_list) or all(isinstance(x , list) for x in edge_list):\n",
        "            self.edge_list = edge_list\n",
        "        else:\n",
        "            print(\"Invalid graph initiation!\")\n",
        "            self.edge_list = []\n",
        "        self.explored = []\n",
        "    \n",
        "    def get_nodes(self):\n",
        "        vertices = set()\n",
        "        for node in self.edge_list:\n",
        "            vertices.add(node[0])\n",
        "            vertices.add(node[1])\n",
        "        return vertices\n",
        "\n",
        "    def add_edge(self, edge):\n",
        "        if len(edge)==2:\n",
        "            edge_list = self.edge_list\n",
        "            if edge_list==[]:\n",
        "                edge_list.append(edge)\n",
        "            elif isinstance(edge_list[0], list):\n",
        "                edge_list.append(edge)\n",
        "            elif isinstance(edge_list[0], tuple):\n",
        "                edge_list.append(tuple(edge))\n",
        "        else:\n",
        "            print(\"invalid_edge\")\n",
        "        self.edge_list = edge_list\n",
        "\n",
        "    def get_adjacent_nodes(self, vert):\n",
        "        if vert in self.get_nodes():\n",
        "            return set([x[1] for x in self.edge_list if x[0]==vert])\n",
        "        else:\n",
        "            return set()\n",
        "    \n",
        "    \n",
        "    def dfs(self, vert):\n",
        "        if vert not in self.explored:\n",
        "            self.explored.append(vert)\n",
        "        adj = self.get_adjacent_nodes(vert)\n",
        "        for v in adj:\n",
        "            if v not in self.explored:\n",
        "                self.dfs(v)\n",
        "        if hasattr(self, 'current_label'):\n",
        "            self.order[vert] = self.current_label\n",
        "            self.current_label -= 1\n",
        "    \n",
        "    def dfs_loop(self):\n",
        "        n = len(self.get_nodes())\n",
        "        self.order = {}\n",
        "        self.current_label = n\n",
        "        for v in self.get_nodes():\n",
        "            if v not in self.explored:\n",
        "                self.dfs(v)\n",
        "    \n",
        "    def reverse(self):\n",
        "        rev_edges = []\n",
        "        for edge in self.edge_list:\n",
        "            rev_edges.append([edge[1], edge[0]])\n",
        "        self.rev_edges = rev_edges\n",
        "        return self\n",
        "    \n",
        "    def kosaraju(self):\n",
        "        pass\n",
        "\n"
      ],
      "execution_count": 0,
      "outputs": []
    },
    {
      "cell_type": "code",
      "metadata": {
        "id": "ErsQWcCfJb1q",
        "colab_type": "code",
        "outputId": "19801a63-d14c-4e20-9446-3dd1b4ab497a",
        "colab": {
          "base_uri": "https://localhost:8080/",
          "height": 35
        }
      },
      "source": [
        "#x=[(1,2), ('3','5')]\n",
        "#all(isinstance(el, tuple) for el in x)\n",
        "g1 = Graph([])\n",
        "g1.get_nodes()\n",
        "g1.add_edge(['1', '3'])\n",
        "g1.add_edge(['3', '4'])\n",
        "g1.add_edge(['1', '2'])\n",
        "\n",
        "len(g1.get_nodes())\n",
        "g1.edge_list\n",
        "g2.edge_list\n",
        "#g1.get_adjacent_nodes('1')\n",
        "#g1.dfs('1')\n",
        "#g1.explored\n",
        "#g1.dfs_loop()\n",
        "#g1.order"
      ],
      "execution_count": 73,
      "outputs": [
        {
          "output_type": "execute_result",
          "data": {
            "text/plain": [
              "[['3', '1'], ['4', '3'], ['2', '1']]"
            ]
          },
          "metadata": {
            "tags": []
          },
          "execution_count": 73
        }
      ]
    },
    {
      "cell_type": "code",
      "metadata": {
        "id": "wF9o9XdOCtXM",
        "colab_type": "code",
        "colab": {}
      },
      "source": [
        "graph=[]\n",
        "with open(os.path.join(root_path,'SCC.txt')) as f:\n",
        "    for line in f:\n",
        "        adj_vert=[int(x) for x in line.split()]\n",
        "        graph.append(adj_vert)    "
      ],
      "execution_count": 0,
      "outputs": []
    },
    {
      "cell_type": "code",
      "metadata": {
        "id": "qCXa4J9eN3OA",
        "colab_type": "code",
        "colab": {}
      },
      "source": [
        ""
      ],
      "execution_count": 0,
      "outputs": []
    }
  ]
}