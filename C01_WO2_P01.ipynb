{
  "nbformat": 4,
  "nbformat_minor": 0,
  "metadata": {
    "colab": {
      "name": "C01_WO2_P01.ipynb",
      "provenance": [],
      "include_colab_link": true
    },
    "kernelspec": {
      "name": "python3",
      "display_name": "Python 3"
    }
  },
  "cells": [
    {
      "cell_type": "markdown",
      "metadata": {
        "id": "view-in-github",
        "colab_type": "text"
      },
      "source": [
        "<a href=\"https://colab.research.google.com/github/fxdata/algo-course/blob/master/C01_WO2_P01.ipynb\" target=\"_parent\"><img src=\"https://colab.research.google.com/assets/colab-badge.svg\" alt=\"Open In Colab\"/></a>"
      ]
    },
    {
      "cell_type": "code",
      "metadata": {
        "id": "dmjtYWvMGAP8",
        "colab_type": "code",
        "outputId": "3d1e2926-c80b-4189-df91-9ec7e6aeca09",
        "colab": {
          "base_uri": "https://localhost:8080/",
          "height": 124
        }
      },
      "source": [
        "from google.colab import drive\n",
        "drive.mount('/content/gdrive')"
      ],
      "execution_count": 0,
      "outputs": [
        {
          "output_type": "stream",
          "text": [
            "Go to this URL in a browser: https://accounts.google.com/o/oauth2/auth?client_id=947318989803-6bn6qk8qdgf4n4g3pfee6491hc0brc4i.apps.googleusercontent.com&redirect_uri=urn%3Aietf%3Awg%3Aoauth%3A2.0%3Aoob&scope=email%20https%3A%2F%2Fwww.googleapis.com%2Fauth%2Fdocs.test%20https%3A%2F%2Fwww.googleapis.com%2Fauth%2Fdrive%20https%3A%2F%2Fwww.googleapis.com%2Fauth%2Fdrive.photos.readonly%20https%3A%2F%2Fwww.googleapis.com%2Fauth%2Fpeopleapi.readonly&response_type=code\n",
            "\n",
            "Enter your authorization code:\n",
            "··········\n",
            "Mounted at /content/gdrive\n"
          ],
          "name": "stdout"
        }
      ]
    },
    {
      "cell_type": "code",
      "metadata": {
        "id": "MjRVDeJXIE23",
        "colab_type": "code",
        "colab": {}
      },
      "source": [
        "root_path = 'gdrive/My Drive/Colab Notebooks/projects/Algo course' "
      ],
      "execution_count": 0,
      "outputs": []
    },
    {
      "cell_type": "code",
      "metadata": {
        "id": "9DSLGGIEIOmu",
        "colab_type": "code",
        "colab": {}
      },
      "source": [
        "import os"
      ],
      "execution_count": 0,
      "outputs": []
    },
    {
      "cell_type": "code",
      "metadata": {
        "id": "DxvwvhcEL9ye",
        "colab_type": "code",
        "colab": {}
      },
      "source": [
        "integer_list=[]\n",
        "with open(os.path.join(root_path,'IntegerArray.txt')) as f:\n",
        "    for line in f:\n",
        "        integer_list.append(int(line))    "
      ],
      "execution_count": 0,
      "outputs": []
    },
    {
      "cell_type": "code",
      "metadata": {
        "id": "DearKtbpeW93",
        "colab_type": "code",
        "colab": {}
      },
      "source": [
        "def find_split_inversions(l, r):\n",
        "    b = 0\n",
        "    out = []\n",
        "    for i in range(len(l)+len(r)):\n",
        "        if l ==[]:\n",
        "            out.extend(r)\n",
        "            break\n",
        "        if r == []:\n",
        "            b += len(l)\n",
        "            out.append(l[0])\n",
        "            l = l[1:]\n",
        "        elif l[0] <= r[0]:\n",
        "            out.append(l[0])\n",
        "            l = l[1:]\n",
        "        else:\n",
        "            out.append(r[0])\n",
        "            b += len(l)\n",
        "            r = r[1:]\n",
        "    return out, b"
      ],
      "execution_count": 0,
      "outputs": []
    },
    {
      "cell_type": "code",
      "metadata": {
        "id": "U0yyIRLVOvOK",
        "colab_type": "code",
        "colab": {}
      },
      "source": [
        "def find_inversions(a):\n",
        "    n = len(a)\n",
        "    if n <= 1:\n",
        "        return a, 0\n",
        "    else:\n",
        "        l, x = find_inversions(a[0:int(n/2)])\n",
        "        r, y = find_inversions(a[int(n/2):])\n",
        "        b = 0\n",
        "        out = []\n",
        "        for i in range(n):\n",
        "            if l ==[]:\n",
        "                out.extend(r)\n",
        "                break\n",
        "            if r == []:\n",
        "                #b += len(l)\n",
        "                out.append(l[0])\n",
        "                l = l[1:]\n",
        "            elif l[0] <= r[0]:\n",
        "                out.append(l[0])\n",
        "                l = l[1:]\n",
        "            else:\n",
        "                out.append(r[0])\n",
        "                b += len(l)\n",
        "                r = r[1:]\n",
        "        return out, b+x+y"
      ],
      "execution_count": 0,
      "outputs": []
    },
    {
      "cell_type": "code",
      "metadata": {
        "id": "nouiDoqQOy7w",
        "colab_type": "code",
        "outputId": "09a87f22-cf7c-46a2-b9be-fc3d00d46514",
        "colab": {
          "base_uri": "https://localhost:8080/",
          "height": 35
        }
      },
      "source": [
        "a = [6,5,4,3,2,1]\n",
        "sa, b = find_inversions(integer_list)\n",
        "print(b)"
      ],
      "execution_count": 0,
      "outputs": [
        {
          "output_type": "stream",
          "text": [
            "2407905288\n"
          ],
          "name": "stdout"
        }
      ]
    },
    {
      "cell_type": "code",
      "metadata": {
        "id": "1woEv87kjcvs",
        "colab_type": "code",
        "colab": {}
      },
      "source": [
        ""
      ],
      "execution_count": 0,
      "outputs": []
    }
  ]
}