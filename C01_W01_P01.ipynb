{
  "nbformat": 4,
  "nbformat_minor": 0,
  "metadata": {
    "colab": {
      "name": "C01_W01_P01.ipynb",
      "version": "0.3.2",
      "provenance": [],
      "include_colab_link": true
    },
    "kernelspec": {
      "name": "python3",
      "display_name": "Python 3"
    }
  },
  "cells": [
    {
      "cell_type": "markdown",
      "metadata": {
        "id": "view-in-github",
        "colab_type": "text"
      },
      "source": [
        "<a href=\"https://colab.research.google.com/github/fxdata/algo-course/blob/master/C01_W01_P01.ipynb\" target=\"_parent\"><img src=\"https://colab.research.google.com/assets/colab-badge.svg\" alt=\"Open In Colab\"/></a>"
      ]
    },
    {
      "cell_type": "code",
      "metadata": {
        "id": "WhkazwEMARAY",
        "colab_type": "code",
        "outputId": "79c3f93e-700b-4885-8ba1-60099164da26",
        "colab": {
          "base_uri": "https://localhost:8080/",
          "height": 69
        }
      },
      "source": [
        "#Exercise 1:\n",
        "#Keratsuba multiplication\n",
        "import math\n",
        "\n"
      ],
      "execution_count": 0,
      "outputs": [
        {
          "output_type": "stream",
          "text": [
            "88 12 99 34\n",
            "278 20 314 4\n",
            "881 2 993 4\n"
          ],
          "name": "stdout"
        }
      ]
    },
    {
      "cell_type": "code",
      "metadata": {
        "id": "qfSnF7b6GkeE",
        "colab_type": "code",
        "colab": {}
      },
      "source": [
        "def multiply_suba(x,y):\n",
        "    if max(x,y) < 10:\n",
        "        n = int(math.ceil(math.log(max(x,y),10)))\n",
        "        a = int(x / 10**(n/2))\n",
        "        b = int(x % 10**(n/2))\n",
        "        c = int(y / 10**(n/2))\n",
        "        d = int(y % 10**(n/2))\n",
        "        ac = multiply_suba(a,c)\n",
        "        bd = multiply_suba(b,d)\n",
        "        mid = multiply_suba(a+b,c+d) - ac - bd\n",
        "        #print(n, ac, bd, mid)\n",
        "        return 10**n * ac + 10**int((n/2)) * mid + bd \n",
        "    else:\n",
        "        return x*y"
      ],
      "execution_count": 0,
      "outputs": []
    },
    {
      "cell_type": "code",
      "metadata": {
        "id": "oi9BGh0qGN76",
        "colab_type": "code",
        "outputId": "fddfcc42-5019-463d-c905-9b36c8cd2993",
        "colab": {
          "base_uri": "https://localhost:8080/",
          "height": 55
        }
      },
      "source": [
        "x=3141592653589793238462643383279502884197169399375105820974944592\n",
        "y=2718281828459045235360287471352662497757247093699959574966967627\n",
        "print(multiply_suba(x, y))"
      ],
      "execution_count": 0,
      "outputs": [
        {
          "output_type": "stream",
          "text": [
            "8539734222673567065463550869546574495034888535765114961879601127067743044893204848617875072216249073013374895871952806582723184\n"
          ],
          "name": "stdout"
        }
      ]
    },
    {
      "cell_type": "code",
      "metadata": {
        "id": "75XnD_cCJZNu",
        "colab_type": "code",
        "colab": {}
      },
      "source": [
        ""
      ],
      "execution_count": 0,
      "outputs": []
    }
  ]
}