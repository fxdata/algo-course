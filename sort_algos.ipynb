{
  "nbformat": 4,
  "nbformat_minor": 0,
  "metadata": {
    "colab": {
      "name": "sort_algos.ipynb",
      "version": "0.3.2",
      "provenance": [],
      "include_colab_link": true
    },
    "kernelspec": {
      "name": "python3",
      "display_name": "Python 3"
    }
  },
  "cells": [
    {
      "cell_type": "markdown",
      "metadata": {
        "id": "view-in-github",
        "colab_type": "text"
      },
      "source": [
        "<a href=\"https://colab.research.google.com/github/fxdata/algo-course/blob/master/sort_algos.ipynb\" target=\"_parent\"><img src=\"https://colab.research.google.com/assets/colab-badge.svg\" alt=\"Open In Colab\"/></a>"
      ]
    },
    {
      "cell_type": "code",
      "metadata": {
        "id": "sGLG35qPqBSB",
        "colab_type": "code",
        "colab": {}
      },
      "source": [
        "#selection sort\n",
        "\n",
        "def merge_sort(a):\n",
        "    for i in range(len(a)):\n",
        "        for j in range(i,len(a)):\n",
        "            if a[j] < a[i]:\n",
        "                a[i], a[j] = a[j], a[i]\n",
        "    return a"
      ],
      "execution_count": 0,
      "outputs": []
    },
    {
      "cell_type": "code",
      "metadata": {
        "id": "Bg30g9Q1uFYm",
        "colab_type": "code",
        "colab": {}
      },
      "source": [
        "def insertion_sort(a):\n",
        "    for i in range(len(a)-1):\n",
        "        j = i + 1\n",
        "        while j > 0:\n",
        "            if a[j] < a[j-1]:\n",
        "                a[j] , a[j-1] = a[j-1], a[j]\n",
        "            j-=1\n",
        "    return a"
      ],
      "execution_count": 0,
      "outputs": []
    },
    {
      "cell_type": "code",
      "metadata": {
        "id": "bS02bamMuOtC",
        "colab_type": "code",
        "colab": {}
      },
      "source": [
        "# bubble sort\n",
        "def bubble_sort(a):\n",
        "    for i in range(1, len(a)):\n",
        "        for j in range(len(a)-i):\n",
        "            if a[j+1]<a[j]:\n",
        "                a[j] , a[j+1] = a[j+1], a[j]\n",
        "    return a"
      ],
      "execution_count": 0,
      "outputs": []
    },
    {
      "cell_type": "code",
      "metadata": {
        "id": "h3wwMtz4_GxG",
        "colab_type": "code",
        "colab": {}
      },
      "source": [
        "#merge_sort\n",
        "\n"
      ],
      "execution_count": 0,
      "outputs": []
    },
    {
      "cell_type": "code",
      "metadata": {
        "id": "3wTYAtLbsi5E",
        "colab_type": "code",
        "colab": {
          "base_uri": "https://localhost:8080/",
          "height": 311
        },
        "outputId": "6440b5db-6741-495c-fc08-601c35597c3f"
      },
      "source": [
        "a = [9, 8, 4, 7, -1, 9]\n",
        "\n",
        "        print(a)\n",
        "print(insertion_sort(a))\n",
        "print(merge_sort(a))"
      ],
      "execution_count": 30,
      "outputs": [
        {
          "output_type": "stream",
          "text": [
            "[8, 9, 4, 7, -1, 9]\n",
            "[8, 4, 9, 7, -1, 9]\n",
            "[8, 4, 7, 9, -1, 9]\n",
            "[8, 4, 7, -1, 9, 9]\n",
            "[8, 4, 7, -1, 9, 9]\n",
            "[4, 8, 7, -1, 9, 9]\n",
            "[4, 7, 8, -1, 9, 9]\n",
            "[4, 7, -1, 8, 9, 9]\n",
            "[4, 7, -1, 8, 9, 9]\n",
            "[4, 7, -1, 8, 9, 9]\n",
            "[4, -1, 7, 8, 9, 9]\n",
            "[4, -1, 7, 8, 9, 9]\n",
            "[-1, 4, 7, 8, 9, 9]\n",
            "[-1, 4, 7, 8, 9, 9]\n",
            "[-1, 4, 7, 8, 9, 9]\n",
            "[-1, 4, 7, 8, 9, 9]\n",
            "[-1, 4, 7, 8, 9, 9]\n"
          ],
          "name": "stdout"
        }
      ]
    }
  ]
}