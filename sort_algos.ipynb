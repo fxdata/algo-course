{
  "nbformat": 4,
  "nbformat_minor": 0,
  "metadata": {
    "colab": {
      "name": "sort_algos.ipynb",
      "version": "0.3.2",
      "provenance": [],
      "include_colab_link": true
    },
    "kernelspec": {
      "name": "python3",
      "display_name": "Python 3"
    }
  },
  "cells": [
    {
      "cell_type": "markdown",
      "metadata": {
        "id": "view-in-github",
        "colab_type": "text"
      },
      "source": [
        "<a href=\"https://colab.research.google.com/github/fxdata/algo-course/blob/master/sort_algos.ipynb\" target=\"_parent\"><img src=\"https://colab.research.google.com/assets/colab-badge.svg\" alt=\"Open In Colab\"/></a>"
      ]
    },
    {
      "cell_type": "code",
      "metadata": {
        "id": "sGLG35qPqBSB",
        "colab_type": "code",
        "colab": {}
      },
      "source": [
        "#selection sort\n",
        "\n",
        "def merge_sort(a):\n",
        "    for i in range(len(a)):\n",
        "        for j in range(i,len(a)):\n",
        "            if a[j] < a[i]:\n",
        "                a[i], a[j] = a[j], a[i]\n",
        "    return a"
      ],
      "execution_count": 0,
      "outputs": []
    },
    {
      "cell_type": "code",
      "metadata": {
        "id": "Bg30g9Q1uFYm",
        "colab_type": "code",
        "colab": {}
      },
      "source": [
        "def insertion_sort(a):\n",
        "    for i in range(len(a)-1):\n",
        "        j = i + 1\n",
        "        while j > 0:\n",
        "            if a[j] < a[j-1]:\n",
        "                a[j] , a[j-1] = a[j-1], a[j]\n",
        "            j-=1\n",
        "    return a"
      ],
      "execution_count": 0,
      "outputs": []
    },
    {
      "cell_type": "code",
      "metadata": {
        "id": "bS02bamMuOtC",
        "colab_type": "code",
        "colab": {}
      },
      "source": [
        "# bubble sort\n",
        "def bubble_sort(a):\n",
        "    for i in range(1, len(a)):\n",
        "        for j in range(len(a)-i):\n",
        "            if a[j+1]<a[j]:\n",
        "                a[j] , a[j+1] = a[j+1], a[j]\n",
        "    return a"
      ],
      "execution_count": 0,
      "outputs": []
    },
    {
      "cell_type": "code",
      "metadata": {
        "id": "h3wwMtz4_GxG",
        "colab_type": "code",
        "colab": {}
      },
      "source": [
        "#merge_sort\n",
        "def merge_sort(a):\n",
        "    n = len(a)\n",
        "    if n<=1:\n",
        "        return a\n",
        "    else:\n",
        "        l = merge_sort(a[:int(n/2)])\n",
        "        r = merge_sort(a[int(n/2):])\n",
        "        out = []\n",
        "        for i in range(n):\n",
        "            if l ==[]:\n",
        "                out.extend(r)\n",
        "                break\n",
        "            if r == []:\n",
        "                out.extend(l)\n",
        "                break\n",
        "            if l[0] <= r[0]:\n",
        "                out.append(l[0])\n",
        "                l = l[1:]\n",
        "            else:\n",
        "                out.append(r[0])\n",
        "                r = r[1:]\n",
        "        return out\n"
      ],
      "execution_count": 0,
      "outputs": []
    },
    {
      "cell_type": "code",
      "metadata": {
        "id": "3wTYAtLbsi5E",
        "colab_type": "code",
        "outputId": "6f73d9f5-17ac-4998-c0b2-28410dc7c6f7",
        "colab": {
          "base_uri": "https://localhost:8080/",
          "height": 173
        }
      },
      "source": [
        "a = [9, 8, 4, 7, -1, 9, 2, 5]\n",
        "\n",
        "print(a)\n",
        "#print(insertion_sort(a))\n",
        "print(merge_sort(a))"
      ],
      "execution_count": 54,
      "outputs": [
        {
          "output_type": "stream",
          "text": [
            "[9, 8, 4, 7, -1, 9, 2, 5]\n",
            "[8, 9]\n",
            "[4, 7]\n",
            "[4, 7, 8, 9]\n",
            "[-1, 9]\n",
            "[2, 5]\n",
            "[-1, 2, 5, 9]\n",
            "[-1, 2, 4, 5, 7, 8, 9, 9]\n",
            "[-1, 2, 4, 5, 7, 8, 9, 9]\n"
          ],
          "name": "stdout"
        }
      ]
    },
    {
      "cell_type": "code",
      "metadata": {
        "id": "k8LApoggU2Ar",
        "colab_type": "code",
        "colab": {
          "base_uri": "https://localhost:8080/",
          "height": 35
        },
        "outputId": "275c3d4c-2f7b-40cc-e5ec-f93c736b3fac"
      },
      "source": [
        "out = []\n",
        "out.append(a[0])\n",
        "out.append(a[2])\n",
        "print(out)"
      ],
      "execution_count": 39,
      "outputs": [
        {
          "output_type": "stream",
          "text": [
            "[9, 4]\n"
          ],
          "name": "stdout"
        }
      ]
    },
    {
      "cell_type": "code",
      "metadata": {
        "id": "1hlvzsBbVhJp",
        "colab_type": "code",
        "colab": {
          "base_uri": "https://localhost:8080/",
          "height": 35
        },
        "outputId": "07409990-b5af-4684-c420-4919ea12c40d"
      },
      "source": [
        "int(8/2)"
      ],
      "execution_count": 18,
      "outputs": [
        {
          "output_type": "execute_result",
          "data": {
            "text/plain": [
              "4"
            ]
          },
          "metadata": {
            "tags": []
          },
          "execution_count": 18
        }
      ]
    },
    {
      "cell_type": "code",
      "metadata": {
        "id": "VQ-eULMuVqyW",
        "colab_type": "code",
        "colab": {}
      },
      "source": [
        ""
      ],
      "execution_count": 0,
      "outputs": []
    }
  ]
}