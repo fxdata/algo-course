{
  "nbformat": 4,
  "nbformat_minor": 0,
  "metadata": {
    "colab": {
      "name": "C01_W04_P01.ipynb",
      "provenance": [],
      "include_colab_link": true
    },
    "kernelspec": {
      "name": "python3",
      "display_name": "Python 3"
    }
  },
  "cells": [
    {
      "cell_type": "markdown",
      "metadata": {
        "id": "view-in-github",
        "colab_type": "text"
      },
      "source": [
        "<a href=\"https://colab.research.google.com/github/fxdata/algo-course/blob/master/C01_W04_P01.ipynb\" target=\"_parent\"><img src=\"https://colab.research.google.com/assets/colab-badge.svg\" alt=\"Open In Colab\"/></a>"
      ]
    },
    {
      "cell_type": "code",
      "metadata": {
        "id": "aG8aZkTwDJGI",
        "colab_type": "code",
        "outputId": "28de6ea0-6b05-4798-d4f2-abcc491b7baa",
        "colab": {
          "base_uri": "https://localhost:8080/",
          "height": 128
        }
      },
      "source": [
        "from google.colab import drive\n",
        "drive.mount('/content/gdrive')\n"
      ],
      "execution_count": 4,
      "outputs": [
        {
          "output_type": "stream",
          "text": [
            "Go to this URL in a browser: https://accounts.google.com/o/oauth2/auth?client_id=947318989803-6bn6qk8qdgf4n4g3pfee6491hc0brc4i.apps.googleusercontent.com&redirect_uri=urn%3aietf%3awg%3aoauth%3a2.0%3aoob&response_type=code&scope=email%20https%3a%2f%2fwww.googleapis.com%2fauth%2fdocs.test%20https%3a%2f%2fwww.googleapis.com%2fauth%2fdrive%20https%3a%2f%2fwww.googleapis.com%2fauth%2fdrive.photos.readonly%20https%3a%2f%2fwww.googleapis.com%2fauth%2fpeopleapi.readonly\n",
            "\n",
            "Enter your authorization code:\n",
            "··········\n",
            "Mounted at /content/gdrive\n"
          ],
          "name": "stdout"
        }
      ]
    },
    {
      "cell_type": "code",
      "metadata": {
        "id": "2iQ5GqmRFYcU",
        "colab_type": "code",
        "colab": {}
      },
      "source": [
        "root_path = 'gdrive/My Drive/Colab Notebooks/projects/Algo course' "
      ],
      "execution_count": 0,
      "outputs": []
    },
    {
      "cell_type": "code",
      "metadata": {
        "id": "ALauw4ZmFZkl",
        "colab_type": "code",
        "colab": {}
      },
      "source": [
        "import os\n",
        "import sys\n",
        "from random import randint\n",
        "from copy import deepcopy"
      ],
      "execution_count": 0,
      "outputs": []
    },
    {
      "cell_type": "code",
      "metadata": {
        "id": "I-CJ2mfSIK5e",
        "colab_type": "code",
        "colab": {}
      },
      "source": [
        "g=[]\n",
        "with open(os.path.join(root_path,'kargerMinCut.txt')) as f:\n",
        "    for line in f:\n",
        "        adj_vert=[int(x) for x in line.split()]\n",
        "        g.append(adj_vert)    "
      ],
      "execution_count": 0,
      "outputs": []
    },
    {
      "cell_type": "code",
      "metadata": {
        "id": "_WYs0nX2Jh4o",
        "colab_type": "code",
        "colab": {}
      },
      "source": [
        "edge_cnt=sum([len(g[i])-1 for i in range(len(g))])"
      ],
      "execution_count": 0,
      "outputs": []
    },
    {
      "cell_type": "code",
      "metadata": {
        "id": "Eu-OWauYM-0C",
        "colab_type": "code",
        "colab": {}
      },
      "source": [
        "def find_edge(graph, rand_edge):\n",
        "    edge_cnt = 0\n",
        "    row_cnt = 0\n",
        "    while edge_cnt < rand_edge:\n",
        "        edge_cnt += len(graph[row_cnt]) - 1\n",
        "        row_cnt += 1\n",
        "    return graph[row_cnt-1][0], graph[row_cnt-1][-1-(edge_cnt-rand_edge)]\n",
        "def contract_edges(graph, st_vert, end_vert):\n",
        "    d_vert = max(st_vert, end_vert)\n",
        "    c_vert = min(st_vert, end_vert)\n",
        "    r_cnt = 0\n",
        "    for row in graph:\n",
        "        if row[0]==d_vert:\n",
        "            d_row = r_cnt\n",
        "        if row[0]==c_vert:\n",
        "            c_row = r_cnt\n",
        "        r_cnt += 1\n",
        "    graph[c_row] += graph[d_row][1:]\n",
        "    graph.pop(d_row)\n",
        "    for i in range(len(graph)):\n",
        "        node = graph[i]\n",
        "        node = [x if x != d_vert else c_vert for x in node]\n",
        "        vert = node[0]\n",
        "        node = [x for x in node if x!=vert]\n",
        "        graph[i] = [vert] + node\n",
        "    '''graph = [list : for l in graph]\n",
        "    graph[c_row] = list(filter(lambda x: x!= d_vert, graph[c_row]))\n",
        "    graph[c_row] = list(filter(lambda x: x!= c_vert, graph[c_row]))\n",
        "    graph[c_row] = [c_vert] + graph[c_row]'''\n",
        "    return graph"
      ],
      "execution_count": 0,
      "outputs": []
    },
    {
      "cell_type": "code",
      "metadata": {
        "id": "wwsfHfkvJj7a",
        "colab_type": "code",
        "colab": {}
      },
      "source": [
        "def contract_node(graph):\n",
        "    edge_cnt=sum([len(graph[i])-1 for i in range(len(graph))])\n",
        "    rand_edge = randint(1,edge_cnt)\n",
        "    st_vert, end_vert = find_edge(graph, rand_edge)\n",
        "    graph = contract_edges(graph, st_vert, end_vert)\n",
        "    return graph"
      ],
      "execution_count": 0,
      "outputs": []
    },
    {
      "cell_type": "code",
      "metadata": {
        "id": "kDaj_LEmJz9k",
        "colab_type": "code",
        "outputId": "a884f71b-740e-47cb-b75e-aa08824dd7b7",
        "colab": {
          "base_uri": "https://localhost:8080/",
          "height": 1000
        }
      },
      "source": [
        "min_cut_vec = []\n",
        "#t = [[1, 2, 3, 4], [2, 1, 3], [3, 1, 2, 4], [4, 1, 3]]\n",
        "for i in range(100):\n",
        "    graph = deepcopy(g)\n",
        "    while len(graph) > 2:\n",
        "        graph = contract_node(graph)\n",
        "    min_cut_vec.append(len(graph[0])-1)\n",
        "    print(min(min_cut_vec))\n",
        "    #print(t)\n",
        "    print(\"=========\")"
      ],
      "execution_count": 60,
      "outputs": [
        {
          "output_type": "stream",
          "text": [
            "25\n",
            "=========\n",
            "25\n",
            "=========\n",
            "22\n",
            "=========\n",
            "22\n",
            "=========\n",
            "22\n",
            "=========\n",
            "21\n",
            "=========\n",
            "21\n",
            "=========\n",
            "21\n",
            "=========\n",
            "21\n",
            "=========\n",
            "20\n",
            "=========\n",
            "20\n",
            "=========\n",
            "20\n",
            "=========\n",
            "20\n",
            "=========\n",
            "20\n",
            "=========\n",
            "20\n",
            "=========\n",
            "20\n",
            "=========\n",
            "20\n",
            "=========\n",
            "20\n",
            "=========\n",
            "20\n",
            "=========\n",
            "20\n",
            "=========\n",
            "20\n",
            "=========\n",
            "20\n",
            "=========\n",
            "20\n",
            "=========\n",
            "20\n",
            "=========\n",
            "20\n",
            "=========\n",
            "20\n",
            "=========\n",
            "20\n",
            "=========\n",
            "20\n",
            "=========\n",
            "20\n",
            "=========\n",
            "20\n",
            "=========\n",
            "20\n",
            "=========\n",
            "20\n",
            "=========\n",
            "20\n",
            "=========\n",
            "20\n",
            "=========\n",
            "20\n",
            "=========\n",
            "20\n",
            "=========\n",
            "20\n",
            "=========\n",
            "20\n",
            "=========\n",
            "20\n",
            "=========\n",
            "20\n",
            "=========\n",
            "20\n",
            "=========\n",
            "20\n",
            "=========\n",
            "20\n",
            "=========\n",
            "20\n",
            "=========\n",
            "20\n",
            "=========\n",
            "20\n",
            "=========\n",
            "20\n",
            "=========\n",
            "20\n",
            "=========\n",
            "20\n",
            "=========\n",
            "20\n",
            "=========\n",
            "20\n",
            "=========\n",
            "20\n",
            "=========\n",
            "20\n",
            "=========\n",
            "20\n",
            "=========\n",
            "20\n",
            "=========\n",
            "20\n",
            "=========\n",
            "20\n",
            "=========\n",
            "20\n",
            "=========\n",
            "20\n",
            "=========\n",
            "20\n",
            "=========\n",
            "20\n",
            "=========\n",
            "20\n",
            "=========\n",
            "20\n",
            "=========\n",
            "20\n",
            "=========\n",
            "20\n",
            "=========\n",
            "20\n",
            "=========\n",
            "20\n",
            "=========\n",
            "20\n",
            "=========\n",
            "20\n",
            "=========\n",
            "20\n",
            "=========\n",
            "20\n",
            "=========\n",
            "20\n",
            "=========\n",
            "20\n",
            "=========\n",
            "20\n",
            "=========\n",
            "20\n",
            "=========\n",
            "20\n",
            "=========\n",
            "20\n",
            "=========\n",
            "20\n",
            "=========\n",
            "20\n",
            "=========\n",
            "20\n",
            "=========\n",
            "20\n",
            "=========\n",
            "20\n",
            "=========\n",
            "20\n",
            "=========\n",
            "17\n",
            "=========\n",
            "17\n",
            "=========\n",
            "17\n",
            "=========\n",
            "17\n",
            "=========\n",
            "17\n",
            "=========\n",
            "17\n",
            "=========\n",
            "17\n",
            "=========\n",
            "17\n",
            "=========\n",
            "17\n",
            "=========\n",
            "17\n",
            "=========\n",
            "17\n",
            "=========\n",
            "17\n",
            "=========\n",
            "17\n",
            "=========\n",
            "17\n",
            "=========\n",
            "17\n",
            "=========\n",
            "17\n",
            "=========\n",
            "17\n",
            "=========\n"
          ],
          "name": "stdout"
        }
      ]
    },
    {
      "cell_type": "code",
      "metadata": {
        "id": "iEgBPAsULs5x",
        "colab_type": "code",
        "colab": {}
      },
      "source": [
        "t"
      ],
      "execution_count": 0,
      "outputs": []
    },
    {
      "cell_type": "code",
      "metadata": {
        "id": "Jcg0RHETUwp1",
        "colab_type": "code",
        "colab": {}
      },
      "source": [
        "\n"
      ],
      "execution_count": 0,
      "outputs": []
    }
  ]
}